{
 "cells": [
  {
   "cell_type": "code",
   "execution_count": 24,
   "metadata": {},
   "outputs": [
    {
     "name": "stdout",
     "output_type": "stream",
     "text": [
      "not corrct\n"
     ]
    }
   ],
   "source": [
    "email=input('enter your email')\n",
    "password = input('enter your password')\n",
    "if email =='k@gmail.com' and password =='1234':\n",
    "    print('welcome')\n",
    "elif email =='k@gmail.com' and password =='1234':\n",
    "    print('incorrect password')\n",
    "    password = input('enter your pass again')\n",
    "    if password == '1234':\n",
    "        print('welcome')\n",
    "    else :\n",
    "        print('beta tum se na ho payega')\n",
    "else:\n",
    "    print('not corrct')                \n",
    "\n",
    "        \n",
    "\n",
    "\n",
    "\n"
   ]
  },
  {
   "cell_type": "code",
   "execution_count": 8,
   "metadata": {},
   "outputs": [
    {
     "name": "stdout",
     "output_type": "stream",
     "text": [
      "smallest 7\n"
     ]
    }
   ],
   "source": [
    "a=int(input('first num'))\n",
    "b=int(input('second num'))\n",
    "c=int(input('third num'))\n",
    "if a<b == a<c:\n",
    "    print('smallest',a)\n",
    "elif b<c:\n",
    "    print('smallest',b)\n",
    "else :\n",
    "    print('smallest',c)        \n"
   ]
  },
  {
   "cell_type": "code",
   "execution_count": 3,
   "metadata": {},
   "outputs": [
    {
     "name": "stdout",
     "output_type": "stream",
     "text": [
      "2500\n"
     ]
    }
   ],
   "source": [
    "fnum=int(input('enter the fnum'))\n",
    "snum=int(input('enter the snum'))\n",
    "op=input('enter the opration')\n",
    "if op=='+':\n",
    "    print(fnum + snum)\n",
    "elif op=='-':\n",
    "    print(fnum - snum)\n",
    "elif op=='*':   \n",
    "    print(fnum * snum) \n",
    "elif op=='/':\n",
    "    print(fnum / snum)    \n",
    "        \n"
   ]
  },
  {
   "attachments": {},
   "cell_type": "markdown",
   "metadata": {},
   "source": [
    "Import"
   ]
  },
  {
   "cell_type": "code",
   "execution_count": 13,
   "metadata": {},
   "outputs": [
    {
     "name": "stdout",
     "output_type": "stream",
     "text": [
      "['False', 'None', 'True', 'and', 'as', 'assert', 'async', 'await', 'break', 'class', 'continue', 'def', 'del', 'elif', 'else', 'except', 'finally', 'for', 'from', 'global', 'if', 'import', 'in', 'is', 'lambda', 'nonlocal', 'not', 'or', 'pass', 'raise', 'return', 'try', 'while', 'with', 'yield']\n"
     ]
    }
   ],
   "source": [
    "import keyword\n",
    "print(keyword.kwlist)"
   ]
  },
  {
   "cell_type": "code",
   "execution_count": 18,
   "metadata": {},
   "outputs": [
    {
     "name": "stdout",
     "output_type": "stream",
     "text": [
      "30\n"
     ]
    }
   ],
   "source": [
    "import random\n",
    "print(random.randint(1,100))"
   ]
  },
  {
   "cell_type": "code",
   "execution_count": 21,
   "metadata": {},
   "outputs": [
    {
     "name": "stdout",
     "output_type": "stream",
     "text": [
      "2023-01-07 16:58:20.881810\n"
     ]
    }
   ],
   "source": [
    "import datetime\n",
    "print(datetime.datetime.now())"
   ]
  },
  {
   "cell_type": "code",
   "execution_count": 23,
   "metadata": {},
   "outputs": [
    {
     "name": "stdout",
     "output_type": "stream",
     "text": [
      "guess higher\n",
      "guess higher\n",
      "guess lower\n",
      "guess higher\n",
      "correct guess\n"
     ]
    }
   ],
   "source": [
    "#gassng game\n",
    "import random \n",
    "jackpot = random.randint(1,100)\n",
    "guess=int(input('guess karo'))\n",
    "while guess != jackpot:\n",
    " if guess> jackpot:\n",
    "    print('guess lower')\n",
    " elif guess < jackpot:\n",
    "    print('guess higher') \n",
    " guess=int(input('guess karo'))\n",
    "\n",
    "else:\n",
    "    print('correct guess')       \n"
   ]
  },
  {
   "attachments": {},
   "cell_type": "markdown",
   "metadata": {},
   "source": [
    "\n",
    "Add of Two Number"
   ]
  },
  {
   "cell_type": "code",
   "execution_count": 7,
   "metadata": {},
   "outputs": [
    {
     "name": "stdout",
     "output_type": "stream",
     "text": [
      "sum = 88\n"
     ]
    }
   ],
   "source": [
    "x=int(input(\"enter the first number\"))\n",
    "y=int(input(\"enter the second number\"))\n",
    "print(\"sum =\",x+y)\n",
    "\n",
    "\n",
    "\n"
   ]
  },
  {
   "attachments": {},
   "cell_type": "markdown",
   "metadata": {},
   "source": [
    "Square Root"
   ]
  },
  {
   "cell_type": "code",
   "execution_count": 9,
   "metadata": {},
   "outputs": [
    {
     "name": "stdout",
     "output_type": "stream",
     "text": [
      "square root = 25\n"
     ]
    }
   ],
   "source": [
    "n=int(input(\"enter the number\"))\n",
    "print(\"square root =\",n*n)"
   ]
  },
  {
   "attachments": {},
   "cell_type": "markdown",
   "metadata": {},
   "source": [
    "Area of Triangle"
   ]
  },
  {
   "cell_type": "code",
   "execution_count": 10,
   "metadata": {},
   "outputs": [
    {
     "name": "stdout",
     "output_type": "stream",
     "text": [
      "area of triangle 50.0\n"
     ]
    }
   ],
   "source": [
    "base=int(input(\"enter the base\"))\n",
    "height=int(input(\"enter the height\"))\n",
    "\n",
    "print(\"area of triangle\",.5*base*height)"
   ]
  },
  {
   "cell_type": "code",
   "execution_count": 19,
   "metadata": {},
   "outputs": [
    {
     "name": "stdout",
     "output_type": "stream",
     "text": [
      "swap number a=4 ,b=7\n"
     ]
    }
   ],
   "source": [
    "a=int(input(\"enter the first number\"))\n",
    "b=int(input(\"enter the second number\"))\n",
    "a=a+b\n",
    "b=a-b\n",
    "a=a-b\n",
    "print(\"swap number a=%d ,b=%d\"%(a,b))\n",
    "\n"
   ]
  },
  {
   "cell_type": "code",
   "execution_count": 16,
   "metadata": {},
   "outputs": [
    {
     "name": "stdout",
     "output_type": "stream",
     "text": [
      "44\n"
     ]
    }
   ],
   "source": [
    "import random\n",
    "print(random.randint(1,100))"
   ]
  },
  {
   "cell_type": "code",
   "execution_count": 17,
   "metadata": {},
   "outputs": [
    {
     "name": "stdout",
     "output_type": "stream",
     "text": [
      "5.00 kilometers is equal to 3.11 miles\n"
     ]
    }
   ],
   "source": [
    "# Taking kilometers input from the user\n",
    "kilometers = float(input(\"Enter value in kilometers: \"))\n",
    "\n",
    "# conversion factor\n",
    "conv_fac = 0.621371\n",
    "\n",
    "# calculate miles\n",
    "miles = kilometers * conv_fac\n",
    "print('%0.2f kilometers is equal to %0.2f miles' %(kilometers,miles))"
   ]
  },
  {
   "cell_type": "code",
   "execution_count": 27,
   "metadata": {},
   "outputs": [
    {
     "name": "stdout",
     "output_type": "stream",
     "text": [
      "a=-60 is even and postive number\n"
     ]
    }
   ],
   "source": [
    "a=int(input(\"enter the first number\"))\n",
    "\n",
    "if (a%2==0):\n",
    "    print(\"a=%d is even and postive number\"%a)\n",
    "elif(a%2==1):\n",
    "    print(\"a=%d is odd and postive number\"%a)   \n",
    "elif(a%2==-1):\n",
    "    print(\"a=%d is odd and negative number\"%a)  \n",
    "else:\n",
    "    print(\"a=%d is even and negative number\"%a)         "
   ]
  },
  {
   "cell_type": "code",
   "execution_count": 29,
   "metadata": {},
   "outputs": [
    {
     "name": "stdout",
     "output_type": "stream",
     "text": [
      "a=55 is odd and postive number\n"
     ]
    }
   ],
   "source": [
    "a=int(input(\"enter the first number\"))\n",
    "if (a>0):\n",
    "    if (a%2==0):\n",
    "        print(\"a=%d is even and postive number\"%a)\n",
    "    elif(a%2==1):\n",
    "        print(\"a=%d is odd and postive number\"%a) \n",
    "if (a<0): \n",
    "    if(a%2==-1):\n",
    "        print(\"a=%d is odd and negative number\"%a)  \n",
    "    else:\n",
    "        print(\"a=%d is even and negative number\"%a)           "
   ]
  },
  {
   "cell_type": "code",
   "execution_count": 32,
   "metadata": {},
   "outputs": [
    {
     "name": "stdout",
     "output_type": "stream",
     "text": [
      "b=99 is largest number\n"
     ]
    }
   ],
   "source": [
    "a=int(input(\"enter the first number\"))\n",
    "b=int(input(\"enter the second number\"))\n",
    "c=int(input(\"enter the third number\"))\n",
    "if(a>b) and (a>c):\n",
    "    print(\"a=%d is largest number\"%a)\n",
    "elif(b>a) and (b>c):\n",
    "    print(\"b=%d is largest number\"%b)\n",
    "else:\n",
    "    print(\"c=%d is largest number\"%c)        "
   ]
  },
  {
   "cell_type": "code",
   "execution_count": 7,
   "metadata": {},
   "outputs": [
    {
     "name": "stdout",
     "output_type": "stream",
     "text": [
      "0 of factorial is 1\n"
     ]
    }
   ],
   "source": [
    "n=int(input(\"enter the first number\"))\n",
    "fact=1\n",
    "if(n<0):\n",
    "    print(\"your enter wrong number\")\n",
    "elif(n==0):\n",
    "    print(\"0 of factorial is 1\")\n",
    "else:\n",
    "    for i in range(1,n+1):\n",
    "        fact=fact*i\n",
    "    print(\"factorial=\",n,\"is\",fact)\n",
    "            "
   ]
  },
  {
   "cell_type": "code",
   "execution_count": 8,
   "metadata": {},
   "outputs": [
    {
     "name": "stdout",
     "output_type": "stream",
     "text": [
      "fibonacci squence\n",
      "1\n",
      "1\n",
      "2\n",
      "3\n",
      "5\n"
     ]
    }
   ],
   "source": [
    "n=int(input(\"how to get number of fibonacchi series\"))\n",
    "first=0\n",
    "second=1\n",
    "if (n<0):\n",
    "    print(\"please enter the positive integer\")\n",
    "else:\n",
    "    print(\"fibonacci squence\")    \n",
    "    for i in range(1,n+1):\n",
    "        k=first+second\n",
    "        first=second\n",
    "        second=k\n",
    "        print(first)\n"
   ]
  },
  {
   "cell_type": "code",
   "execution_count": 13,
   "metadata": {},
   "outputs": [
    {
     "name": "stdout",
     "output_type": "stream",
     "text": [
      "153 is armstrong number\n"
     ]
    }
   ],
   "source": [
    "n=int(input(\"enter the number\"))\n",
    "sum=0\n",
    "a=n\n",
    "while a>0:\n",
    "    digit=a%10\n",
    "    sum+=digit**3\n",
    "    a//=10\n",
    "if n==sum:\n",
    "    print(n,\"is armstrong number\")\n",
    "else:\n",
    "    print(n,\" is not armstrong number\")        \n",
    "\n"
   ]
  },
  {
   "cell_type": "code",
   "execution_count": null,
   "metadata": {},
   "outputs": [],
   "source": []
  }
 ],
 "metadata": {
  "kernelspec": {
   "display_name": "Python 3",
   "language": "python",
   "name": "python3"
  },
  "language_info": {
   "codemirror_mode": {
    "name": "ipython",
    "version": 3
   },
   "file_extension": ".py",
   "mimetype": "text/x-python",
   "name": "python",
   "nbconvert_exporter": "python",
   "pygments_lexer": "ipython3",
   "version": "3.10.4 (tags/v3.10.4:9d38120, Mar 23 2022, 23:13:41) [MSC v.1929 64 bit (AMD64)]"
  },
  "orig_nbformat": 4,
  "vscode": {
   "interpreter": {
    "hash": "be4ba2eea7440f0872637eafd588a6df8252e11914db5e4bfba0297ba1a11246"
   }
  }
 },
 "nbformat": 4,
 "nbformat_minor": 2
}
