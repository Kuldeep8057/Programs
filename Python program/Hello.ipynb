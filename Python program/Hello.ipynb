{
 "cells": [
  {
   "cell_type": "code",
   "execution_count": 1,
   "metadata": {},
   "outputs": [
    {
     "name": "stdout",
     "output_type": "stream",
     "text": [
      "Hello World\n"
     ]
    }
   ],
   "source": [
    "print(\"Hello World\")"
   ]
  },
  {
   "cell_type": "code",
   "execution_count": 5,
   "metadata": {},
   "outputs": [
    {
     "name": "stdout",
     "output_type": "stream",
     "text": [
      "kuldeep Hlw world 88\n",
      "True\n",
      "False\n"
     ]
    }
   ],
   "source": [
    "print(\"kuldeep\",\"Hlw world\",88)\n",
    "print(18>5)\n",
    "print(18<5)"
   ]
  },
  {
   "attachments": {},
   "cell_type": "markdown",
   "metadata": {},
   "source": [
    "Variable\n"
   ]
  },
  {
   "cell_type": "code",
   "execution_count": 10,
   "metadata": {},
   "outputs": [
    {
     "name": "stdout",
     "output_type": "stream",
     "text": [
      "10 10\n",
      "a\n",
      "a 10\n"
     ]
    }
   ],
   "source": [
    "a=10\n",
    "b=10\n",
    "print(a,b)\n",
    "print(\"a\") \n",
    "print(\"a\",b)   #this is string"
   ]
  },
  {
   "cell_type": "code",
   "execution_count": 8,
   "metadata": {},
   "outputs": [
    {
     "name": "stdout",
     "output_type": "stream",
     "text": [
      "1862954582544 1862954582544\n"
     ]
    }
   ],
   "source": [
    "print(id(a),id(b))"
   ]
  },
  {
   "cell_type": "code",
   "execution_count": 11,
   "metadata": {},
   "outputs": [
    {
     "name": "stdout",
     "output_type": "stream",
     "text": [
      "Hello\n"
     ]
    }
   ],
   "source": [
    "c=\"Hello\"\n",
    "print(c)"
   ]
  },
  {
   "attachments": {},
   "cell_type": "markdown",
   "metadata": {},
   "source": [
    "String"
   ]
  },
  {
   "cell_type": "code",
   "execution_count": 15,
   "metadata": {},
   "outputs": [
    {
     "name": "stdout",
     "output_type": "stream",
     "text": [
      "Hello Kuldeep\n",
      "50\n"
     ]
    }
   ],
   "source": [
    "a=\"Hello\"\n",
    "b=\"Kuldeep\"\n",
    "print(a+\" \"+b)\n",
    "c=30\n",
    "print(c+20)"
   ]
  },
  {
   "cell_type": "code",
   "execution_count": 16,
   "metadata": {},
   "outputs": [
    {
     "name": "stdout",
     "output_type": "stream",
     "text": [
      "30 -10 200 2.0 0 100\n"
     ]
    }
   ],
   "source": [
    "a=10\n",
    "b=20\n",
    "print(a+b,a-b,a*b,b/a,b%a,a**2)\n"
   ]
  },
  {
   "attachments": {},
   "cell_type": "markdown",
   "metadata": {},
   "source": [
    "Comparison Operators\n"
   ]
  },
  {
   "cell_type": "code",
   "execution_count": 3,
   "metadata": {},
   "outputs": [
    {
     "name": "stdout",
     "output_type": "stream",
     "text": [
      "False\n",
      "True\n",
      "False\n",
      "True\n"
     ]
    }
   ],
   "source": [
    "x=10\n",
    "y=20\n",
    "print(x==y)\n",
    "print(x!=y)\n",
    "print(x>y)\n",
    "print(x<y)\n"
   ]
  },
  {
   "attachments": {},
   "cell_type": "markdown",
   "metadata": {},
   "source": [
    "Logical Operators"
   ]
  },
  {
   "cell_type": "code",
   "execution_count": 8,
   "metadata": {},
   "outputs": [
    {
     "name": "stdout",
     "output_type": "stream",
     "text": [
      "True\n",
      "True\n",
      "False\n"
     ]
    }
   ],
   "source": [
    "x=10\n",
    "y=20\n",
    "print(x==10 and x<y)\n",
    "print(x==20 or y>x)\n",
    "print(x!=10)"
   ]
  },
  {
   "attachments": {},
   "cell_type": "markdown",
   "metadata": {},
   "source": [
    "Membership Operators"
   ]
  },
  {
   "cell_type": "code",
   "execution_count": 1,
   "metadata": {},
   "outputs": [
    {
     "name": "stdout",
     "output_type": "stream",
     "text": [
      "True\n",
      "True\n"
     ]
    }
   ],
   "source": [
    "string=\"Hello\"\n",
    "print('H' in string)\n",
    "print('D'in 'Delhi')"
   ]
  },
  {
   "cell_type": "code",
   "execution_count": 14,
   "metadata": {},
   "outputs": [
    {
     "name": "stdout",
     "output_type": "stream",
     "text": [
      "True\n",
      "False\n"
     ]
    }
   ],
   "source": [
    "l=[10,20,30,40]\n",
    "print(50 not in l)\n",
    "print(50 in l)"
   ]
  },
  {
   "attachments": {},
   "cell_type": "markdown",
   "metadata": {},
   "source": [
    "Identity Operator"
   ]
  },
  {
   "cell_type": "code",
   "execution_count": 16,
   "metadata": {},
   "outputs": [
    {
     "name": "stdout",
     "output_type": "stream",
     "text": [
      "True True\n",
      "False False\n"
     ]
    }
   ],
   "source": [
    "x=10\n",
    "y=10\n",
    "print( x is y,x==y)\n",
    "print(x is not y,x!=y)"
   ]
  },
  {
   "attachments": {},
   "cell_type": "markdown",
   "metadata": {},
   "source": [
    "Bitwise Operator"
   ]
  },
  {
   "cell_type": "code",
   "execution_count": 21,
   "metadata": {},
   "outputs": [
    {
     "name": "stdout",
     "output_type": "stream",
     "text": [
      "0b1010\n",
      "0b1000\n",
      "0b1000 8\n",
      "0b1010 10\n",
      "0b10 2\n"
     ]
    }
   ],
   "source": [
    "x=10\n",
    "y=8\n",
    "print(bin(x))\n",
    "print(bin(y))\n",
    "print(bin(x&y),x&y)#bitwise and\n",
    "print(bin(x|y),x|y)#bitwise or\n",
    "print(bin(x^y),x^y)#bitwise xor"
   ]
  },
  {
   "cell_type": "code",
   "execution_count": null,
   "metadata": {},
   "outputs": [],
   "source": []
  },
  {
   "attachments": {},
   "cell_type": "markdown",
   "metadata": {},
   "source": [
    "Data Type"
   ]
  },
  {
   "cell_type": "code",
   "execution_count": 24,
   "metadata": {},
   "outputs": [
    {
     "name": "stdout",
     "output_type": "stream",
     "text": [
      "(2+5j) <class 'complex'>\n",
      "2.0 <class 'float'>\n",
      "(2+5j) <class 'complex'>\n"
     ]
    }
   ],
   "source": [
    "a=5 \n",
    "b=2.0\n",
    "a=2+5j\n",
    "print(a,type(a))\n",
    "print(b,type(b))\n",
    "print(a,type(a))\n",
    "\n"
   ]
  },
  {
   "cell_type": "code",
   "execution_count": 26,
   "metadata": {},
   "outputs": [
    {
     "name": "stdout",
     "output_type": "stream",
     "text": [
      "Hello@123 <class 'str'>\n",
      "Hwll\n",
      "welcome\n"
     ]
    }
   ],
   "source": [
    "s='Hello@123'\n",
    "print(s,type(s))\n",
    "s='''Hwll\n",
    "welcome'''\n",
    "print(s)"
   ]
  },
  {
   "cell_type": "code",
   "execution_count": 27,
   "metadata": {},
   "outputs": [
    {
     "name": "stdout",
     "output_type": "stream",
     "text": [
      "10 <class 'str'>\n"
     ]
    }
   ],
   "source": [
    "s='10'\n",
    "print(s,type(s))"
   ]
  },
  {
   "attachments": {},
   "cell_type": "markdown",
   "metadata": {},
   "source": [
    "List\n"
   ]
  },
  {
   "cell_type": "code",
   "execution_count": 31,
   "metadata": {},
   "outputs": [
    {
     "name": "stdout",
     "output_type": "stream",
     "text": [
      "[1, 2.2, 10] <class 'list'>\n"
     ]
    }
   ],
   "source": [
    "a=[1,2.2,'ws']\n",
    "a[2]=10\n",
    "print(a,type(a))"
   ]
  },
  {
   "attachments": {},
   "cell_type": "markdown",
   "metadata": {},
   "source": [
    "Tuple"
   ]
  },
  {
   "cell_type": "code",
   "execution_count": 33,
   "metadata": {},
   "outputs": [
    {
     "name": "stdout",
     "output_type": "stream",
     "text": [
      "(5, 'program', (1+3j)) <class 'tuple'>\n",
      "10 <class 'int'>\n"
     ]
    }
   ],
   "source": [
    "t=(5,'program',1+3j)\n",
    "print(t,type(t))\n",
    "t=(10)\n",
    "print(t,type(t))"
   ]
  },
  {
   "attachments": {},
   "cell_type": "markdown",
   "metadata": {},
   "source": [
    "Directory"
   ]
  },
  {
   "cell_type": "code",
   "execution_count": 1,
   "metadata": {},
   "outputs": [
    {
     "name": "stdout",
     "output_type": "stream",
     "text": [
      "Python\n",
      "{'course_name': 'Python', 'course_duration': '2 month'} <class 'dict'>\n"
     ]
    }
   ],
   "source": [
    "d={\n",
    "    'course_name':'Python', \n",
    "    'course_duration':'2 month'\n",
    "    }\n",
    "print(d['course_name'])\n",
    "print(d,type(d))"
   ]
  },
  {
   "attachments": {},
   "cell_type": "markdown",
   "metadata": {},
   "source": [
    "Set"
   ]
  },
  {
   "cell_type": "code",
   "execution_count": 1,
   "metadata": {},
   "outputs": [
    {
     "name": "stdout",
     "output_type": "stream",
     "text": [
      "{1, 2, 3, 4, 5} <class 'set'>\n"
     ]
    }
   ],
   "source": [
    "s={1,2,3,4,5}\n",
    "print(s,type(s))"
   ]
  },
  {
   "attachments": {},
   "cell_type": "markdown",
   "metadata": {},
   "source": [
    "Getting User Input & Type \n",
    "casting"
   ]
  },
  {
   "cell_type": "code",
   "execution_count": 2,
   "metadata": {},
   "outputs": [
    {
     "name": "stdout",
     "output_type": "stream",
     "text": [
      "10\n"
     ]
    }
   ],
   "source": [
    "a=input(\"enter the value:- \")\n",
    "print(a)"
   ]
  },
  {
   "cell_type": "code",
   "execution_count": 2,
   "metadata": {},
   "outputs": [
    {
     "name": "stdout",
     "output_type": "stream",
     "text": [
      "12\n"
     ]
    }
   ],
   "source": [
    "number=int(input('enter a 3 digit number'))\n",
    "a=number%10\n",
    "number =number//10\n",
    "b=number%10\n",
    "number=number//10\n",
    "c=number%10\n",
    "print(a+b+c)"
   ]
  },
  {
   "attachments": {},
   "cell_type": "markdown",
   "metadata": {},
   "source": [
    "if-else "
   ]
  },
  {
   "cell_type": "code",
   "execution_count": 12,
   "metadata": {},
   "outputs": [
    {
     "name": "stdout",
     "output_type": "stream",
     "text": [
      "-1\n",
      "1\n",
      "3\n",
      "3\n",
      "False\n",
      "False\n",
      "True\n",
      "True\n",
      "True\n"
     ]
    }
   ],
   "source": [
    "w='Welcome4'\n",
    "t=\"123\"\n",
    "print(w.find('z'))# -1\n",
    "print(w.find('e'))\n",
    "print(w.index('c'))\n",
    "print(w.index('c',3))\n",
    "print(w.isalpha())\n",
    "print(w.isdigit())\n",
    "print(t.isdigit())\n",
    "print(w.isalnum())\n",
    "print(t.isalnum())\n",
    "\n",
    "\n",
    "\n"
   ]
  },
  {
   "attachments": {},
   "cell_type": "markdown",
   "metadata": {},
   "source": [
    "chr() and ord()"
   ]
  },
  {
   "cell_type": "code",
   "execution_count": 18,
   "metadata": {},
   "outputs": [
    {
     "name": "stdout",
     "output_type": "stream",
     "text": [
      "A\n",
      "B 66\n"
     ]
    }
   ],
   "source": [
    "a=65\n",
    "print(chr(a))\n",
    "y=('B')\n",
    "print(y,ord(y))"
   ]
  },
  {
   "attachments": {},
   "cell_type": "markdown",
   "metadata": {},
   "source": [
    "Python String Format()"
   ]
  },
  {
   "cell_type": "code",
   "execution_count": 22,
   "metadata": {},
   "outputs": [
    {
     "name": "stdout",
     "output_type": "stream",
     "text": [
      "kuldeep hello 20 gangwar\n",
      "kuldeep hello 20 gangwar\n",
      "kuldeep 30 40 gangwar\n"
     ]
    }
   ],
   "source": [
    "t1=\"kuldeep {} {} gangwar\".format(\"hello\",20);\n",
    "print(t1)\n",
    "t1=\"kuldeep {0} {1} gangwar\".format(\"hello\",20);\n",
    "print(t1)\n",
    "t1=\"kuldeep {a} {b} gangwar\".format(a=30,b=40);\n",
    "print(t1)\n"
   ]
  },
  {
   "attachments": {},
   "cell_type": "markdown",
   "metadata": {},
   "source": [
    "List in Python"
   ]
  },
  {
   "cell_type": "code",
   "execution_count": 7,
   "metadata": {},
   "outputs": [
    {
     "name": "stdout",
     "output_type": "stream",
     "text": [
      "Hello\n",
      "[2, 3, 'Hello']\n",
      "[3, 'Hello', [3, 4, 5]]\n",
      "[1, 3, 5]\n",
      "[6, 5, 4, 3, 2, 1]\n"
     ]
    }
   ],
   "source": [
    "l=[2,3,\"Hello\",[3,4,5]]\n",
    "print(l[2])\n",
    "print(l[0:3])\n",
    "print(l[1:])\n",
    "\n",
    "t=[1,2,3,4,5,6]\n",
    "print(t[-0: :2])\n",
    "print(t[-1::-1])"
   ]
  },
  {
   "cell_type": "code",
   "execution_count": 15,
   "metadata": {},
   "outputs": [
    {
     "name": "stdout",
     "output_type": "stream",
     "text": [
      "<class 'list'>\n",
      "40\n",
      "[10, 20]\n",
      "[10, 30, 50]\n",
      "[20, 50]\n",
      "[40, 50, 'Hello']\n",
      "['Hello', 40, 20]\n",
      "['Hello', 50, 40, 30, 20, 10]\n"
     ]
    }
   ],
   "source": [
    "l=[10,20,30,40,50,\"Hello\"]\n",
    "print(type(l))\n",
    "print(l[3])\n",
    "print(l[0:2])#less than 1\n",
    "print(l[0::2])\n",
    "print(l[1::3])\n",
    "print(l[3:])\n",
    "print(l[-1::-2])\n",
    "print(l[-1::-1])"
   ]
  },
  {
   "attachments": {},
   "cell_type": "markdown",
   "metadata": {},
   "source": [
    "List Iteration"
   ]
  },
  {
   "cell_type": "code",
   "execution_count": 28,
   "metadata": {},
   "outputs": [
    {
     "name": "stdout",
     "output_type": "stream",
     "text": [
      "6\n",
      "10\n",
      "\n",
      "20\n",
      "\n",
      "30\n",
      "\n",
      "40\n",
      "\n",
      "50\n",
      "\n",
      "60\n",
      "\n",
      "10\n",
      "20\n",
      "30\n",
      "40\n",
      "50\n",
      "60\n",
      "60\n",
      "50\n",
      "40\n",
      "30\n",
      "20\n",
      "10\n"
     ]
    }
   ],
   "source": [
    "l=[10,20,30,40,50,60]\n",
    "t=len(l)\n",
    "print(t)\n",
    "for n in range(t):\n",
    " print(l[n])\n",
    " #print(n)   \n",
    "\n",
    " \n",
    " print(\"\")\n",
    "for a in l: \n",
    "  print(a)\n",
    "for n in range(t-1,-1,-1):\n",
    "    print(l[n])"
   ]
  },
  {
   "cell_type": "code",
   "execution_count": 26,
   "metadata": {},
   "outputs": [
    {
     "name": "stdout",
     "output_type": "stream",
     "text": [
      "60\n",
      "50\n",
      "40\n",
      "30\n",
      "20\n",
      "10\n"
     ]
    }
   ],
   "source": [
    "l=[10,20,30,40,50,60]\n",
    "t=len(l)\n",
    "for a in range(t-1,-1,-1):\n",
    " print(l[a])\n"
   ]
  },
  {
   "cell_type": "code",
   "execution_count": 50,
   "metadata": {},
   "outputs": [
    {
     "name": "stdout",
     "output_type": "stream",
     "text": [
      "[20, 30, 40, 60]\n",
      "40\n",
      "[20, 30, 60]\n"
     ]
    }
   ],
   "source": [
    "l=[20,30,40,60]\n",
    "#del l[1]\n",
    "#l.pop(2)\n",
    "#l.remove(60)\n",
    "\n",
    "print(l)\n",
    "print(l.pop(2))\n",
    "print(l)\n",
    "l.clear()\n",
    "\n",
    "\n"
   ]
  },
  {
   "attachments": {},
   "cell_type": "markdown",
   "metadata": {},
   "source": [
    "List Update"
   ]
  },
  {
   "cell_type": "code",
   "execution_count": 42,
   "metadata": {},
   "outputs": [
    {
     "name": "stdout",
     "output_type": "stream",
     "text": [
      "[100, 30, 40, 50]\n"
     ]
    }
   ],
   "source": [
    "l=[20,30,40,50]\n",
    "l[0]=100\n",
    "print(l)"
   ]
  },
  {
   "attachments": {},
   "cell_type": "markdown",
   "metadata": {},
   "source": [
    "List Function"
   ]
  },
  {
   "cell_type": "code",
   "execution_count": 47,
   "metadata": {},
   "outputs": [
    {
     "name": "stdout",
     "output_type": "stream",
     "text": [
      "[20, 30, 50, 60, [100, 120]]\n",
      "[20, 30, 50, 60, [100, 120], 100, 120]\n",
      "[20, 30, 50, 60, [100, 120], 100, 120, 70]\n",
      "[10, 20, 30, 50, 60, [100, 120], 100, 120, 70]\n"
     ]
    }
   ],
   "source": [
    "l=[20,30,50,60]\n",
    "n=[100,120]\n",
    "l.append(n)\n",
    "print(l)\n",
    "l.extend(n)\n",
    "print(l)\n",
    "\n",
    "l.append(70)\n",
    "print(l)\n",
    "l.insert(0,10)\n",
    "print(l)"
   ]
  },
  {
   "cell_type": "code",
   "execution_count": 49,
   "metadata": {},
   "outputs": [
    {
     "name": "stdout",
     "output_type": "stream",
     "text": [
      "[20, 50, 60]\n"
     ]
    }
   ],
   "source": [
    "l=[20,30,50,60]\n",
    "del l[1]\n",
    "print(l)\n"
   ]
  },
  {
   "cell_type": "code",
   "execution_count": 25,
   "metadata": {},
   "outputs": [
    {
     "name": "stdout",
     "output_type": "stream",
     "text": [
      "1e+308\n"
     ]
    }
   ],
   "source": [
    "a=1e308\n",
    "print(a)"
   ]
  },
  {
   "attachments": {},
   "cell_type": "markdown",
   "metadata": {},
   "source": [
    "List Comprehension"
   ]
  },
  {
   "cell_type": "code",
   "execution_count": 59,
   "metadata": {},
   "outputs": [
    {
     "name": "stdout",
     "output_type": "stream",
     "text": [
      "[1, 2, 3, 4, 5, 6, 7, 8, 9, 10, 11, 12, 13, 14, 15, 16, 17, 18, 19, 20, 21, 22, 23, 24, 25, 26, 27, 28, 29, 30, 31, 32, 33, 34, 35, 36, 37, 38, 39, 40, 41, 42, 43, 44, 45, 46, 47, 48, 49, 50, 51, 52, 53, 54, 55, 56, 57, 58, 59, 60, 61, 62, 63, 64, 65, 66, 67, 68, 69, 70, 71, 72, 73, 74, 75, 76, 77, 78, 79, 80, 81, 82, 83, 84, 85, 86, 87, 88, 89, 90, 91, 92, 93, 94, 95, 96, 97, 98, 99, 100]\n",
      "[2, 4, 6, 8, 10, 12, 14, 16, 18, 20, 22, 24, 26, 28, 30, 32, 34, 36, 38, 40, 42, 44, 46, 48, 50, 52, 54, 56, 58, 60, 62, 64, 66, 68, 70, 72, 74, 76, 78, 80, 82, 84, 86, 88, 90, 92, 94, 96, 98, 100]\n",
      "['H', 'e', 'l', 'l', 'o']\n"
     ]
    }
   ],
   "source": [
    "l=[]\n",
    "#for a in range(1,101):\n",
    "#   l.append(a)\n",
    "#print(l)\n",
    "\n",
    "n = [m for m in range(1,101) ]\n",
    "print(n)\n",
    "n = [m for m in range(1,101) if m%2==0 ]\n",
    "print(n)\n",
    "s=\"Hello\"\n",
    "d=[g for g in s]\n",
    "print(d)\n"
   ]
  },
  {
   "attachments": {},
   "cell_type": "markdown",
   "metadata": {},
   "source": [
    "1.Count 2.Max 3.Min 4.Sort 5.Reverse 6.Index"
   ]
  },
  {
   "cell_type": "code",
   "execution_count": 71,
   "metadata": {},
   "outputs": [
    {
     "name": "stdout",
     "output_type": "stream",
     "text": [
      "2\n",
      "50\n",
      "[10, 10, 20, 30, 50]\n",
      "World\n",
      "10\n",
      "[50, 30, 20, 10, 10]\n"
     ]
    },
    {
     "data": {
      "text/plain": [
       "2"
      ]
     },
     "execution_count": 71,
     "metadata": {},
     "output_type": "execute_result"
    }
   ],
   "source": [
    "l=[10,20,30,50,10]\n",
    "a=l.count(10)\n",
    "print(a)\n",
    "\n",
    "n=max(l)\n",
    "print(n)\n",
    "\n",
    "l.sort()\n",
    "[print(l)]\n",
    "\n",
    "s=[\"Hello\",\"World\"]\n",
    "print(max(s))\n",
    "\n",
    "y=min(l)\n",
    "print(y)\n",
    "\n",
    "l.reverse()\n",
    "print(l)\n",
    "\n",
    "l.index(20)\n"
   ]
  },
  {
   "attachments": {},
   "cell_type": "markdown",
   "metadata": {},
   "source": [
    "Iterate over 2 + Lists at the same time (zip function)"
   ]
  },
  {
   "cell_type": "code",
   "execution_count": 7,
   "metadata": {},
   "outputs": [
    {
     "name": "stdout",
     "output_type": "stream",
     "text": [
      "10 2\n",
      "20 4\n",
      "30 6\n",
      "40 8\n",
      "10 2\n",
      "20 4\n",
      "30 6\n",
      "40 8\n"
     ]
    }
   ],
   "source": [
    "l=[10,20,30,40]\n",
    "l1=[2,4,6,8]\n",
    "t=len(l)\n",
    "for a,b in zip(l,l1):\n",
    "    print(a,b)\n",
    "    \n",
    "for h in range(t):\n",
    "    print(l[h],l1[h])"
   ]
  },
  {
   "attachments": {},
   "cell_type": "markdown",
   "metadata": {},
   "source": [
    "String to a List"
   ]
  },
  {
   "cell_type": "code",
   "execution_count": 2,
   "metadata": {},
   "outputs": [
    {
     "name": "stdout",
     "output_type": "stream",
     "text": [
      "kuldeep gangwar\n",
      "['kuldeep', 'gangwar']\n"
     ]
    }
   ],
   "source": [
    "n=input(\"enter the value\")\n",
    "\n",
    "print(n)\n",
    "l=n.split();\n",
    "print(l)"
   ]
  },
  {
   "cell_type": "code",
   "execution_count": 4,
   "metadata": {},
   "outputs": [
    {
     "name": "stdout",
     "output_type": "stream",
     "text": [
      "red\n",
      "blue\n",
      "green\n",
      "['red', 'blue', 'green']\n"
     ]
    }
   ],
   "source": [
    "l=[]\n",
    "for a in range(1,4):\n",
    "    n=input(\"enter the value \"+str(a)+\":-\")\n",
    "    print(n)\n",
    "    l.append(n)\n",
    "print(l)    "
   ]
  },
  {
   "attachments": {},
   "cell_type": "markdown",
   "metadata": {},
   "source": [
    "Stack and Queue\n"
   ]
  },
  {
   "cell_type": "code",
   "execution_count": 1,
   "metadata": {},
   "outputs": [],
   "source": [
    "l=[]\n",
    "while True:\n",
    "    c=int(input('''\n",
    "    1 Push Element\n",
    "    2 Pop Elements\n",
    "    3 Peek element\n",
    "    4 Display Stack\n",
    "    5 exit \n",
    "    '''))\n",
    "    if c==1:\n",
    "        n=input(\"enter the value\");\n",
    "        l.append(n)\n",
    "        print(l)\n",
    "    elif c==2:\n",
    "        if len(l)==0:\n",
    "            print(\"empty Stack\")\n",
    "        else:    \n",
    "            p=l.pop()\n",
    "            print(p)\n",
    "        print(l)     \n",
    "    elif c==3:\n",
    "        if len(l)==0:\n",
    "            print(\"Empty Stack\")\n",
    "        else:\n",
    "            print(\"Last Stack Value\",l[-1])\n",
    "    elif c==4:\n",
    "        print(\"Display Stack\",l) \n",
    "        \n",
    "    else:\n",
    "        break"
   ]
  },
  {
   "attachments": {},
   "cell_type": "markdown",
   "metadata": {},
   "source": [
    "Dictionary"
   ]
  },
  {
   "cell_type": "code",
   "execution_count": 4,
   "metadata": {},
   "outputs": [
    {
     "name": "stdout",
     "output_type": "stream",
     "text": [
      "python\n",
      "8000\n",
      "2month\n"
     ]
    }
   ],
   "source": [
    "d={\n",
    "    'course':'python',\n",
    "    'fees':8000,\n",
    "    'duration':'2month'\n",
    "}\n",
    "#f=d['fees']\n",
    "for n in d:\n",
    "\n",
    "    print(d[n])"
   ]
  },
  {
   "attachments": {},
   "cell_type": "markdown",
   "metadata": {},
   "source": [
    "Dictionary Function"
   ]
  },
  {
   "cell_type": "code",
   "execution_count": 13,
   "metadata": {},
   "outputs": [
    {
     "name": "stdout",
     "output_type": "stream",
     "text": [
      "course\n",
      "fees\n",
      "duration\n",
      "python\n",
      "8000\n",
      "2month\n",
      "course python\n",
      "fees 8000\n",
      "duration 2month\n"
     ]
    }
   ],
   "source": [
    "d={\n",
    "    'course':'python',\n",
    "    'fees':8000,\n",
    "    'duration':'2month'\n",
    "}\n",
    "#f=d['fees']\n",
    "for n in d.keys():\n",
    "\n",
    "    print(n)\n",
    "for a in d.values():\n",
    "    print(a) \n",
    "for a,b in d.items():\n",
    "    print(a,b)      "
   ]
  },
  {
   "cell_type": "code",
   "execution_count": 20,
   "metadata": {},
   "outputs": [
    {
     "name": "stdout",
     "output_type": "stream",
     "text": [
      "python\n",
      "{'course': 'python', 'duration': '2 month'}\n",
      "2 month\n",
      "{'name': 'python', 'fees': 8000}\n"
     ]
    }
   ],
   "source": [
    "d={\n",
    "    'course':'python',\n",
    "    'fees':8000,\n",
    "    'duration':'2 month'\n",
    "}\n",
    "#f=d['fees']\n",
    "c=d.get('course')\n",
    "print(c)\n",
    "del d['fees']\n",
    "print(d)\n",
    "print(d.pop('duration'))\n",
    "d=dict(name='python',fees=8000)\n",
    "print(d)"
   ]
  },
  {
   "cell_type": "code",
   "execution_count": 27,
   "metadata": {},
   "outputs": [
    {
     "name": "stdout",
     "output_type": "stream",
     "text": [
      "{'course': 'python', 'fees': 10000, 'duration': '2 month'}\n",
      "{'course': 'python', 'fees': 10000, 'duration': '2 month', 'desc': 'This is Python'}\n",
      "{'course': 'python', 'fees': 20000, 'duration': '2 month', 'desc': 'This is Python'}\n"
     ]
    }
   ],
   "source": [
    "d={\n",
    "    'course':'python',\n",
    "    'fees':8000,\n",
    "    'duration':'2 month'\n",
    "}\n",
    "d.update({'fees':10000})\n",
    "print(d)\n",
    "#d.clear()\n",
    "#print(d)\n",
    "\n",
    "d['desc']=\"This is Python\"\n",
    "print(d)\n",
    "d['fees']=20000\n",
    "print(d)"
   ]
  },
  {
   "attachments": {},
   "cell_type": "markdown",
   "metadata": {},
   "source": [
    "Nested Dictionary"
   ]
  },
  {
   "cell_type": "markdown",
   "metadata": {},
   "source": []
  },
  {
   "cell_type": "code",
   "execution_count": 9,
   "metadata": {},
   "outputs": [
    {
     "name": "stdout",
     "output_type": "stream",
     "text": [
      "{'php': {'duration': '2 month', 'fess': '15000'}, 'python': {'duration': '2 month', 'fess': '12000'}, 'java': {'duration': '2 month', 'fess': '10000'}}\n",
      "15000\n",
      "php 2 month 15000\n",
      "python 2 month 12000\n",
      "java 2 month 40000\n"
     ]
    }
   ],
   "source": [
    "course={\n",
    "    'php':{'duration':'2 month','fess':'15000'},\n",
    "    'python':{'duration':'2 month','fess':'12000'},\n",
    "    'java':{'duration':'2 month','fess':'10000'}\n",
    "}\n",
    "print(course)\n",
    "course['java']['fess']=40000\n",
    "print(course['php']['fess'])\n",
    "for k,v in course.items():\n",
    "    # print(k,v)\n",
    "    print(k,v['duration'],v['fess'])\n"
   ]
  },
  {
   "attachments": {},
   "cell_type": "markdown",
   "metadata": {},
   "source": [
    "Tuple#"
   ]
  },
  {
   "cell_type": "code",
   "execution_count": 25,
   "metadata": {},
   "outputs": [
    {
     "name": "stdout",
     "output_type": "stream",
     "text": [
      "<class 'tuple'>\n",
      "40\n",
      "0\n",
      "\n",
      "\n",
      "10\n",
      "0\n",
      "1\n",
      "\n",
      "\n",
      "20\n",
      "1\n",
      "2\n",
      "\n",
      "\n",
      "30\n",
      "2\n",
      "3\n",
      "\n",
      "\n",
      "40\n",
      "3\n",
      "4\n",
      "\n",
      "\n",
      "60\n",
      "4\n",
      "10\n",
      "20\n",
      "30\n",
      "40\n",
      "60\n"
     ]
    }
   ],
   "source": [
    "t=(10,20,30,40,60)\n",
    "print(type(t))\n",
    "a=t[3]\n",
    "print(a)\n",
    "l=len(t)\n",
    "for a in range(l):\n",
    "    print(a)\n",
    "    print('\\n')\n",
    "    print(t[a])\n",
    "    print(a)\n",
    "for a in t:\n",
    "    print(a)\n"
   ]
  },
  {
   "cell_type": "markdown",
   "metadata": {},
   "source": []
  },
  {
   "cell_type": "code",
   "execution_count": 22,
   "metadata": {},
   "outputs": [
    {
     "name": "stdout",
     "output_type": "stream",
     "text": [
      "20\n",
      "50\n",
      "1\n",
      "2\n",
      "140\n",
      "150\n"
     ]
    }
   ],
   "source": [
    "t=(20,30,40,50)\n",
    "m=min(t)\n",
    "print(m)\n",
    "m=max(t)\n",
    "print(m)\n",
    "c=t.count(20)\n",
    "print(c)\n",
    "a=t.index(40)\n",
    "print(a)\n",
    "s=sum(t)\n",
    "print(s)\n",
    "s=sum(t,10)#10increase\n",
    "print(s)\n"
   ]
  },
  {
   "attachments": {},
   "cell_type": "markdown",
   "metadata": {},
   "source": [
    "Set"
   ]
  },
  {
   "cell_type": "code",
   "execution_count": 9,
   "metadata": {},
   "outputs": [
    {
     "name": "stdout",
     "output_type": "stream",
     "text": [
      "{40, 10, 20, 30}\n",
      "40\n",
      "{10, 20, 30}\n",
      "{10, 30}\n",
      "{30}\n",
      "{80, 20, 40, 90, 30}\n",
      "set()\n",
      "{10}\n"
     ]
    }
   ],
   "source": [
    "s={10,20,30,40}\n",
    "s.add(40)\n",
    "print(s)\n",
    "print(s.pop())\n",
    "print(s)\n",
    "s.remove(20)\n",
    "print(s)\n",
    "s.discard(10)\n",
    "print(s)\n",
    "t={20,40,60,10}\n",
    "l={80,90,40,20}\n",
    "s.update(l)\n",
    "print(s)\n",
    "t.clear()\n",
    "print(t)\n",
    "t.add(10)\n",
    "print(t)"
   ]
  },
  {
   "attachments": {},
   "cell_type": "markdown",
   "metadata": {},
   "source": [
    "Function in Python"
   ]
  },
  {
   "cell_type": "code",
   "execution_count": 20,
   "metadata": {},
   "outputs": [
    {
     "name": "stdout",
     "output_type": "stream",
     "text": [
      "welcome to kuldeep gangwar\n",
      "welcome to kuldeep gangwar\n"
     ]
    }
   ],
   "source": [
    "def showdata():\n",
    "    print(\"welcome to kuldeep gangwar\")\n",
    "showdata()      \n",
    "showdata()       \n"
   ]
  },
  {
   "attachments": {},
   "cell_type": "markdown",
   "metadata": {},
   "source": [
    "Arugement Function"
   ]
  },
  {
   "cell_type": "code",
   "execution_count": 12,
   "metadata": {},
   "outputs": [
    {
     "name": "stdout",
     "output_type": "stream",
     "text": [
      "30\n"
     ]
    }
   ],
   "source": [
    "def sumdata(a,b):\n",
    "    print(a+b)\n",
    "n=10\n",
    "n1=20    \n",
    "sumdata(n,n1)    "
   ]
  },
  {
   "cell_type": "code",
   "execution_count": 26,
   "metadata": {},
   "outputs": [
    {
     "name": "stdout",
     "output_type": "stream",
     "text": [
      "60\n"
     ]
    }
   ],
   "source": [
    "def sumdata(a,b=5): #defult value\n",
    "    print(a+b)   \n",
    "sumdata(20,40)    "
   ]
  },
  {
   "attachments": {},
   "cell_type": "markdown",
   "metadata": {},
   "source": [
    "Return type"
   ]
  },
  {
   "cell_type": "code",
   "execution_count": 29,
   "metadata": {},
   "outputs": [
    {
     "name": "stdout",
     "output_type": "stream",
     "text": [
      "30\n",
      "25\n"
     ]
    }
   ],
   "source": [
    "def sumdata(a,b=5):\n",
    "    c=a+b\n",
    "    return c\n",
    "b=sumdata(20,10)\n",
    "a=sumdata(20)\n",
    "print(b)\n",
    "print(a)"
   ]
  },
  {
   "cell_type": "code",
   "execution_count": 35,
   "metadata": {},
   "outputs": [
    {
     "name": "stdout",
     "output_type": "stream",
     "text": [
      "(81, 18)\n"
     ]
    }
   ],
   "source": [
    "def square(x):\n",
    "    return x*x,x*2\n",
    "s=square(9)\n",
    "print(s)    "
   ]
  },
  {
   "attachments": {},
   "cell_type": "markdown",
   "metadata": {},
   "source": [
    "Modual of Python"
   ]
  },
  {
   "cell_type": "code",
   "execution_count": 38,
   "metadata": {},
   "outputs": [],
   "source": [
    "def sum(a,b):\n",
    "    c=a+b\n",
    "    return c\n",
    "def mul(a,b):\n",
    "    c=a*b\n",
    "    return c    \n"
   ]
  },
  {
   "attachments": {},
   "cell_type": "markdown",
   "metadata": {},
   "source": [
    "Math Madula in Python"
   ]
  },
  {
   "cell_type": "code",
   "execution_count": 46,
   "metadata": {},
   "outputs": [
    {
     "name": "stdout",
     "output_type": "stream",
     "text": [
      "12\n",
      "10\n"
     ]
    }
   ],
   "source": [
    "import math\n",
    "x=11.2\n",
    "y=10.5\n",
    "print(math.ceil(x))\n",
    "print(math.floor(y))"
   ]
  },
  {
   "cell_type": "code",
   "execution_count": 45,
   "metadata": {},
   "outputs": [
    {
     "name": "stdout",
     "output_type": "stream",
     "text": [
      "10.0\n",
      "10\n"
     ]
    }
   ],
   "source": [
    "import math\n",
    "x=-10\n",
    "\n",
    "print(math.fabs(x))\n",
    "\n",
    "\n"
   ]
  },
  {
   "cell_type": "code",
   "execution_count": 43,
   "metadata": {},
   "outputs": [
    {
     "name": "stdout",
     "output_type": "stream",
     "text": [
      "120\n"
     ]
    }
   ],
   "source": [
    "import math\n",
    "x=5\n",
    "print(math.factorial(x))\n"
   ]
  },
  {
   "cell_type": "code",
   "execution_count": 47,
   "metadata": {},
   "outputs": [
    {
     "name": "stdout",
     "output_type": "stream",
     "text": [
      "100.0\n"
     ]
    }
   ],
   "source": [
    "l=[10,20,30,40]\n",
    "\n",
    "print(math.fsum(l))\n"
   ]
  },
  {
   "cell_type": "code",
   "execution_count": 51,
   "metadata": {},
   "outputs": [
    {
     "name": "stdout",
     "output_type": "stream",
     "text": [
      "4.0\n"
     ]
    }
   ],
   "source": [
    "print(math.sqrt(16))"
   ]
  },
  {
   "attachments": {},
   "cell_type": "markdown",
   "metadata": {},
   "source": [
    "Random Modual in Python\n"
   ]
  },
  {
   "cell_type": "code",
   "execution_count": 67,
   "metadata": {},
   "outputs": [
    {
     "name": "stdout",
     "output_type": "stream",
     "text": [
      "6\n",
      "4\n"
     ]
    }
   ],
   "source": [
    "import random as rd\n",
    "print(rd.randint(5,10))\n",
    "print(rd.randrange(1,10))\n"
   ]
  },
  {
   "cell_type": "code",
   "execution_count": 79,
   "metadata": {},
   "outputs": [
    {
     "name": "stdout",
     "output_type": "stream",
     "text": [
      "chery\n",
      "40\n",
      "0.9617336624271683\n",
      "[30, 10, 20, 40, 60]\n",
      "3.791190548287007\n"
     ]
    }
   ],
   "source": [
    "import random as rd\n",
    "l=[\"apple\",\"banana\",\"chery\"]\n",
    "print(rd.choice(l))\n",
    "k=[10,20,30,40,60]\n",
    "print(rd.choice(k))\n",
    "r=rd.random()\n",
    "print(r)\n",
    "g=[10,20,30,40,60]\n",
    "rd.shuffle(g)\n",
    "print(g)\n",
    "u=rd.uniform(3,9)\n",
    "print(u)\n",
    "\n",
    "\n",
    "\n",
    "\n"
   ]
  },
  {
   "attachments": {},
   "cell_type": "markdown",
   "metadata": {},
   "source": [
    "Python Datetime\n"
   ]
  },
  {
   "cell_type": "code",
   "execution_count": 81,
   "metadata": {},
   "outputs": [
    {
     "name": "stdout",
     "output_type": "stream",
     "text": [
      "2023-01-21 22:00:09.935825\n",
      "2022-02-22 00:00:00\n"
     ]
    }
   ],
   "source": [
    "import datetime\n",
    "x=datetime.datetime.now()\n",
    "print(x)\n",
    "print(datetime.datetime(2022,2,22))"
   ]
  },
  {
   "cell_type": "code",
   "execution_count": 91,
   "metadata": {},
   "outputs": [
    {
     "name": "stdout",
     "output_type": "stream",
     "text": [
      "year: 2023\n"
     ]
    }
   ],
   "source": [
    "import datetime\n",
    "now=datetime.datetime.now()\n",
    "year=now.strftime(\"%Y\")\n",
    "print(\"year:\",year)"
   ]
  },
  {
   "attachments": {},
   "cell_type": "markdown",
   "metadata": {},
   "source": [
    "Using Random Modual "
   ]
  },
  {
   "cell_type": "code",
   "execution_count": 2,
   "metadata": {},
   "outputs": [
    {
     "name": "stdout",
     "output_type": "stream",
     "text": [
      "cumputer Number 28\n",
      "guess number high\n"
     ]
    }
   ],
   "source": [
    "import random as rd\n",
    "Cnumber=rd.randrange(1,101)\n",
    "userInput=int(input(\"enter your number:- \"))\n",
    "\n",
    "if userInput>Cnumber:\n",
    "    print(\"cumputer Number\",Cnumber)\n",
    "    print(\"guess number high\")\n",
    "elif Cnumber>userInput:\n",
    "    print(\"cumputer Number\",Cnumber)\n",
    "    print(\"guess number is low\")\n",
    "else:\n",
    "    print(\"cumputer Number\",Cnumber)\n",
    "    print(\"guess number is equal\")        "
   ]
  },
  {
   "cell_type": "code",
   "execution_count": null,
   "metadata": {},
   "outputs": [],
   "source": []
  },
  {
   "cell_type": "code",
   "execution_count": null,
   "metadata": {},
   "outputs": [],
   "source": []
  }
 ],
 "metadata": {
  "kernelspec": {
   "display_name": "Python 3",
   "language": "python",
   "name": "python3"
  },
  "language_info": {
   "codemirror_mode": {
    "name": "ipython",
    "version": 3
   },
   "file_extension": ".py",
   "mimetype": "text/x-python",
   "name": "python",
   "nbconvert_exporter": "python",
   "pygments_lexer": "ipython3",
   "version": "3.10.4"
  },
  "orig_nbformat": 4,
  "vscode": {
   "interpreter": {
    "hash": "be4ba2eea7440f0872637eafd588a6df8252e11914db5e4bfba0297ba1a11246"
   }
  }
 },
 "nbformat": 4,
 "nbformat_minor": 2
}
