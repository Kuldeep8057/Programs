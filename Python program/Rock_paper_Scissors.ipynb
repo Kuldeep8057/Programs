{
 "cells": [
  {
   "cell_type": "code",
   "execution_count": 1,
   "metadata": {},
   "outputs": [
    {
     "ename": "ValueError",
     "evalue": "invalid literal for int() with base 10: ''",
     "output_type": "error",
     "traceback": [
      "\u001b[1;31m---------------------------------------------------------------------------\u001b[0m",
      "\u001b[1;31mValueError\u001b[0m                                Traceback (most recent call last)",
      "Cell \u001b[1;32mIn[1], line 10\u001b[0m\n\u001b[0;32m      3\u001b[0m \u001b[39m'''\u001b[39;00m\n\u001b[0;32m      4\u001b[0m \u001b[39mrock vs paper-> paper wins\u001b[39;00m\n\u001b[0;32m      5\u001b[0m \u001b[39mrock vs scissor-> rock wins\u001b[39;00m\n\u001b[0;32m      6\u001b[0m \u001b[39mpaper vs scissor-> scissor wins.\u001b[39;00m\n\u001b[0;32m      7\u001b[0m \n\u001b[0;32m      8\u001b[0m \u001b[39m'''\u001b[39;00m\n\u001b[0;32m      9\u001b[0m \u001b[39mwhile\u001b[39;00m \u001b[39mTrue\u001b[39;00m:\n\u001b[1;32m---> 10\u001b[0m     c \u001b[39m=\u001b[39m \u001b[39mint\u001b[39;49m(\u001b[39minput\u001b[39;49m(\u001b[39m'''\u001b[39;49m\n\u001b[0;32m     11\u001b[0m \u001b[39mGame Start.....\u001b[39;49m\n\u001b[0;32m     12\u001b[0m \u001b[39m1 Yes\u001b[39;49m\n\u001b[0;32m     13\u001b[0m \u001b[39m2 No | Exit\u001b[39;49m\n\u001b[0;32m     14\u001b[0m \u001b[39m    \u001b[39;49m\u001b[39m'''\u001b[39;49m))\n\u001b[0;32m     15\u001b[0m     \u001b[39mif\u001b[39;00m c\u001b[39m==\u001b[39m\u001b[39m1\u001b[39m:\n\u001b[0;32m     16\u001b[0m         \u001b[39mfor\u001b[39;00m a \u001b[39min\u001b[39;00m \u001b[39mrange\u001b[39m(\u001b[39m1\u001b[39m,\u001b[39m6\u001b[39m):\n",
      "\u001b[1;31mValueError\u001b[0m: invalid literal for int() with base 10: ''"
     ]
    }
   ],
   "source": [
    "import random as rd\n",
    "l=[\"rock\",\"scissor\",\"paper\"]\n",
    "'''\n",
    "rock vs paper-> paper wins\n",
    "rock vs scissor-> rock wins\n",
    "paper vs scissor-> scissor wins.\n",
    "\n",
    "'''\n",
    "while True:\n",
    "    uc =int(input('''\n",
    "Game Start.....\n",
    "1 Yes\n",
    "2 No | Exit\n",
    "    '''))\n",
    "    if uc==1:\n",
    "        for a in range(1,6):\n",
    "            userval=input('''\n",
    "1 Rock\n",
    "2 Scissor\n",
    "3 Paper         \n",
    "            ''')\n",
    "\n",
    "    if userval==1:\n",
    "        unchoice=\"rock\"\n",
    "    elif userval==2:\n",
    "        unchoice=\"scissor\"\n",
    "    elif userval==3:\n",
    "        unchoice=\"paper\"\n",
    "        Cchoice=rd.choice(l) \n",
    "        print(\"user value\",unchoice)\n",
    "        print(\"computer value\",Cchoice)  \n",
    "    else:\n",
    "        break              \n"
   ]
  },
  {
   "cell_type": "code",
   "execution_count": 1,
   "metadata": {},
   "outputs": [
    {
     "ename": "TypeError",
     "evalue": "object of type 'int' has no len()",
     "output_type": "error",
     "traceback": [
      "\u001b[1;31m---------------------------------------------------------------------------\u001b[0m",
      "\u001b[1;31mTypeError\u001b[0m                                 Traceback (most recent call last)",
      "Cell \u001b[1;32mIn[1], line 29\u001b[0m\n\u001b[0;32m     27\u001b[0m \u001b[39melif\u001b[39;00m userInput\u001b[39m==\u001b[39m\u001b[39m3\u001b[39m:\n\u001b[0;32m     28\u001b[0m     uchoice\u001b[39m==\u001b[39m\u001b[39m\"\u001b[39m\u001b[39mpaper\u001b[39m\u001b[39m\"\u001b[39m\n\u001b[1;32m---> 29\u001b[0m Cchoice\u001b[39m=\u001b[39mrandom\u001b[39m.\u001b[39;49mchoice(\u001b[39m1\u001b[39;49m)\n\u001b[0;32m     30\u001b[0m \u001b[39mif\u001b[39;00m  Cchoice\u001b[39m==\u001b[39muchoice:\n\u001b[0;32m     31\u001b[0m         \u001b[39mprint\u001b[39m(\u001b[39m\"\u001b[39m\u001b[39mcomputer value\u001b[39m\u001b[39m\"\u001b[39m,Cchoice) \n",
      "File \u001b[1;32mc:\\Users\\KULDEEP\\AppData\\Local\\Programs\\Python\\Python310\\lib\\random.py:378\u001b[0m, in \u001b[0;36mRandom.choice\u001b[1;34m(self, seq)\u001b[0m\n\u001b[0;32m    376\u001b[0m \u001b[39m\"\"\"Choose a random element from a non-empty sequence.\"\"\"\u001b[39;00m\n\u001b[0;32m    377\u001b[0m \u001b[39m# raises IndexError if seq is empty\u001b[39;00m\n\u001b[1;32m--> 378\u001b[0m \u001b[39mreturn\u001b[39;00m seq[\u001b[39mself\u001b[39m\u001b[39m.\u001b[39m_randbelow(\u001b[39mlen\u001b[39;49m(seq))]\n",
      "\u001b[1;31mTypeError\u001b[0m: object of type 'int' has no len()"
     ]
    }
   ],
   "source": [
    "import random\n",
    "l=[\"rock\",\"scisssor\",\"paper\"]\n",
    "'''\n",
    "rock vs paper -> paper wins\n",
    "rock vs scissor -> rock wins\n",
    "paper vs scissor -> scissor wins\n",
    "'''\n",
    "while True:\n",
    "    ccount=0\n",
    "    ucount=0\n",
    "    uc=int(input('''\n",
    "Game Star....\n",
    "1 Yes \n",
    "2 No | Exit    \n",
    "    '''))\n",
    "    if uc==1:\n",
    "        for a in range(1,6):\n",
    "            userInput=int(input('''\n",
    "                1 rock\n",
    "                2 scissor \n",
    "                3 paper\n",
    "            '''))\n",
    "            if userInput==1:\n",
    "                uchoice=\"rock\"\n",
    "            elif userInput==2:\n",
    "                uchoice=\"scissor\"\n",
    "            elif userInput==3:\n",
    "                uchoice==\"paper\"\n",
    "            Cchoice=random.choice(1)\n",
    "            if  Cchoice==uchoice:\n",
    "                    print(\"computer value\",Cchoice) \n",
    "                    print(\"user value\",uchoice)  \n",
    "                    print(\"game draw\")    \n",
    "                    ucount=ucount+1\n",
    "                    ccount=ccount+1\n",
    "            elif (uchoice==\"rock\" and Cchoice==\"scissor\")or(uchoice==\"paper\"\n",
    "                    and Cchoice==\"rock\") or (uchoice==\"scissor\" and Cchoice == \"paper\"):\n",
    "                    print(\"computer value\",Cchoice)\n",
    "                    print(\"user value\",uchoice)\n",
    "                    print(\"you win\")\n",
    "                    ucount=ucount+1\n",
    "            else:\n",
    "                print(\"computer value\",Cchoice)\n",
    "                print(\"user value\",uchoice)  \n",
    "                print(\"computer win\")\n",
    "                ccount=ccount+1  \n",
    "                \n",
    "        if ucount==ccount:\n",
    "            print(\"final game draw....\")\n",
    "            print(\"user score\",ucount)\n",
    "            print(\"computer score\",ccount)\n",
    "        elif ucount >ccount:\n",
    "            print(\"final game draw....\")\n",
    "            print(\"user score\",ucount)\n",
    "            print(\"computer score\",ccount)\n",
    "        else:\n",
    "            print(\"final game draw....\")\n",
    "            print(\"user score\",ucount)\n",
    "            print(\"computer score\",ccount)        \n",
    "    else:\n",
    "        break             \n",
    "\n",
    "\n",
    "\n"
   ]
  },
  {
   "attachments": {},
   "cell_type": "markdown",
   "metadata": {},
   "source": [
    "Pickle in Python"
   ]
  },
  {
   "cell_type": "code",
   "execution_count": 18,
   "metadata": {},
   "outputs": [],
   "source": [
    "import pickle\n",
    "l=[10,20,30,40]\n",
    "file=open(\"writedata.txt\",\"wb\")\n",
    "pickle.dump(l,file)\n",
    "file.close()\n"
   ]
  },
  {
   "cell_type": "code",
   "execution_count": 19,
   "metadata": {},
   "outputs": [
    {
     "ename": "UnsupportedOperation",
     "evalue": "read",
     "output_type": "error",
     "traceback": [
      "\u001b[1;31m---------------------------------------------------------------------------\u001b[0m",
      "\u001b[1;31mUnsupportedOperation\u001b[0m                      Traceback (most recent call last)",
      "Cell \u001b[1;32mIn[19], line 4\u001b[0m\n\u001b[0;32m      1\u001b[0m \u001b[39mimport\u001b[39;00m \u001b[39mpickle\u001b[39;00m\n\u001b[0;32m      3\u001b[0m file\u001b[39m=\u001b[39m\u001b[39mopen\u001b[39m(\u001b[39m\"\u001b[39m\u001b[39mwritedata.txt\u001b[39m\u001b[39m\"\u001b[39m,\u001b[39m\"\u001b[39m\u001b[39mwb\u001b[39m\u001b[39m\"\u001b[39m)\n\u001b[1;32m----> 4\u001b[0m l\u001b[39m=\u001b[39mpickle\u001b[39m.\u001b[39;49mload(file)\n\u001b[0;32m      5\u001b[0m \u001b[39mprint\u001b[39m(l)\n",
      "\u001b[1;31mUnsupportedOperation\u001b[0m: read"
     ]
    }
   ],
   "source": [
    "import pickle\n",
    "\n",
    "file=open(\"writedata.txt\",\"wb\")\n",
    "l=pickle.load(file)\n",
    "print(l)"
   ]
  },
  {
   "cell_type": "code",
   "execution_count": 5,
   "metadata": {},
   "outputs": [
    {
     "name": "stdout",
     "output_type": "stream",
     "text": [
      "1\n",
      "2\n",
      "3\n",
      "4\n"
     ]
    }
   ],
   "source": [
    "i = 1\n",
    "\n",
    "while i < 5:\n",
    "\n",
    "    print(i)\n",
    "\n",
    "    i = i + 1"
   ]
  }
 ],
 "metadata": {
  "kernelspec": {
   "display_name": "Python 3",
   "language": "python",
   "name": "python3"
  },
  "language_info": {
   "codemirror_mode": {
    "name": "ipython",
    "version": 3
   },
   "file_extension": ".py",
   "mimetype": "text/x-python",
   "name": "python",
   "nbconvert_exporter": "python",
   "pygments_lexer": "ipython3",
   "version": "3.10.4"
  },
  "orig_nbformat": 4,
  "vscode": {
   "interpreter": {
    "hash": "be4ba2eea7440f0872637eafd588a6df8252e11914db5e4bfba0297ba1a11246"
   }
  }
 },
 "nbformat": 4,
 "nbformat_minor": 2
}
